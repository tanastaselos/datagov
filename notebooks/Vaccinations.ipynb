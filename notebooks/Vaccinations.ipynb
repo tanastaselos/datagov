{
 "cells": [
  {
   "cell_type": "code",
   "execution_count": 3,
   "outputs": [],
   "source": [
    "import pandas as pd"
   ],
   "metadata": {
    "collapsed": false,
    "pycharm": {
     "name": "#%%\n"
    }
   }
  },
  {
   "cell_type": "code",
   "execution_count": 11,
   "outputs": [
    {
     "data": {
      "text/plain": "                   area  areaid  dailydose1  dailydose2  daydiff  daytotal  \\\n0      ΑΙΤΩΛΟΑΚΑΡΝΑΝΙΑΣ     701           0           0        0         0   \n1    ΑΝΑΤΟΛΙΚΗΣ ΑΤΤΙΚΗΣ     901          56           0        1        56   \n2                ΑΝΔΡΟΥ    1201           0           0        0         0   \n3             ΑΡΓΟΛΙΔΑΣ    1001           0           0        0         0   \n4              ΑΡΚΑΔΙΑΣ    1002           0           0        0         0   \n..                  ...     ...         ...         ...      ...       ...   \n217            ΦΛΩΡΙΝΑΣ     304           0           0        0         0   \n218             ΦΩΚΙΔΑΣ     805           0           0        0         0   \n219          ΧΑΛΚΙΔΙΚΗΣ     207           0           0        0         0   \n220              ΧΑΝΙΩΝ    1304           0           0        0         0   \n221                ΧΙΟΥ    1105           0           0        0         0   \n\n           referencedate  totaldistinctpersons  totaldose1  totaldose2  \\\n0    2020-12-29T00:00:00                     0           0           0   \n1    2020-12-29T00:00:00                   146         146           0   \n2    2020-12-29T00:00:00                     0           0           0   \n3    2020-12-29T00:00:00                     0           0           0   \n4    2020-12-29T00:00:00                     0           0           0   \n..                   ...                   ...         ...         ...   \n217  2020-12-31T00:00:00                     0           0           0   \n218  2020-12-31T00:00:00                     0           0           0   \n219  2020-12-31T00:00:00                     0           0           0   \n220  2020-12-31T00:00:00                     0           0           0   \n221  2020-12-31T00:00:00                     0           0           0   \n\n     totalvaccinations  \n0                    0  \n1                  146  \n2                    0  \n3                    0  \n4                    0  \n..                 ...  \n217                  0  \n218                  0  \n219                  0  \n220                  0  \n221                  0  \n\n[222 rows x 11 columns]",
      "text/html": "<div>\n<style scoped>\n    .dataframe tbody tr th:only-of-type {\n        vertical-align: middle;\n    }\n\n    .dataframe tbody tr th {\n        vertical-align: top;\n    }\n\n    .dataframe thead th {\n        text-align: right;\n    }\n</style>\n<table border=\"1\" class=\"dataframe\">\n  <thead>\n    <tr style=\"text-align: right;\">\n      <th></th>\n      <th>area</th>\n      <th>areaid</th>\n      <th>dailydose1</th>\n      <th>dailydose2</th>\n      <th>daydiff</th>\n      <th>daytotal</th>\n      <th>referencedate</th>\n      <th>totaldistinctpersons</th>\n      <th>totaldose1</th>\n      <th>totaldose2</th>\n      <th>totalvaccinations</th>\n    </tr>\n  </thead>\n  <tbody>\n    <tr>\n      <th>0</th>\n      <td>ΑΙΤΩΛΟΑΚΑΡΝΑΝΙΑΣ</td>\n      <td>701</td>\n      <td>0</td>\n      <td>0</td>\n      <td>0</td>\n      <td>0</td>\n      <td>2020-12-29T00:00:00</td>\n      <td>0</td>\n      <td>0</td>\n      <td>0</td>\n      <td>0</td>\n    </tr>\n    <tr>\n      <th>1</th>\n      <td>ΑΝΑΤΟΛΙΚΗΣ ΑΤΤΙΚΗΣ</td>\n      <td>901</td>\n      <td>56</td>\n      <td>0</td>\n      <td>1</td>\n      <td>56</td>\n      <td>2020-12-29T00:00:00</td>\n      <td>146</td>\n      <td>146</td>\n      <td>0</td>\n      <td>146</td>\n    </tr>\n    <tr>\n      <th>2</th>\n      <td>ΑΝΔΡΟΥ</td>\n      <td>1201</td>\n      <td>0</td>\n      <td>0</td>\n      <td>0</td>\n      <td>0</td>\n      <td>2020-12-29T00:00:00</td>\n      <td>0</td>\n      <td>0</td>\n      <td>0</td>\n      <td>0</td>\n    </tr>\n    <tr>\n      <th>3</th>\n      <td>ΑΡΓΟΛΙΔΑΣ</td>\n      <td>1001</td>\n      <td>0</td>\n      <td>0</td>\n      <td>0</td>\n      <td>0</td>\n      <td>2020-12-29T00:00:00</td>\n      <td>0</td>\n      <td>0</td>\n      <td>0</td>\n      <td>0</td>\n    </tr>\n    <tr>\n      <th>4</th>\n      <td>ΑΡΚΑΔΙΑΣ</td>\n      <td>1002</td>\n      <td>0</td>\n      <td>0</td>\n      <td>0</td>\n      <td>0</td>\n      <td>2020-12-29T00:00:00</td>\n      <td>0</td>\n      <td>0</td>\n      <td>0</td>\n      <td>0</td>\n    </tr>\n    <tr>\n      <th>...</th>\n      <td>...</td>\n      <td>...</td>\n      <td>...</td>\n      <td>...</td>\n      <td>...</td>\n      <td>...</td>\n      <td>...</td>\n      <td>...</td>\n      <td>...</td>\n      <td>...</td>\n      <td>...</td>\n    </tr>\n    <tr>\n      <th>217</th>\n      <td>ΦΛΩΡΙΝΑΣ</td>\n      <td>304</td>\n      <td>0</td>\n      <td>0</td>\n      <td>0</td>\n      <td>0</td>\n      <td>2020-12-31T00:00:00</td>\n      <td>0</td>\n      <td>0</td>\n      <td>0</td>\n      <td>0</td>\n    </tr>\n    <tr>\n      <th>218</th>\n      <td>ΦΩΚΙΔΑΣ</td>\n      <td>805</td>\n      <td>0</td>\n      <td>0</td>\n      <td>0</td>\n      <td>0</td>\n      <td>2020-12-31T00:00:00</td>\n      <td>0</td>\n      <td>0</td>\n      <td>0</td>\n      <td>0</td>\n    </tr>\n    <tr>\n      <th>219</th>\n      <td>ΧΑΛΚΙΔΙΚΗΣ</td>\n      <td>207</td>\n      <td>0</td>\n      <td>0</td>\n      <td>0</td>\n      <td>0</td>\n      <td>2020-12-31T00:00:00</td>\n      <td>0</td>\n      <td>0</td>\n      <td>0</td>\n      <td>0</td>\n    </tr>\n    <tr>\n      <th>220</th>\n      <td>ΧΑΝΙΩΝ</td>\n      <td>1304</td>\n      <td>0</td>\n      <td>0</td>\n      <td>0</td>\n      <td>0</td>\n      <td>2020-12-31T00:00:00</td>\n      <td>0</td>\n      <td>0</td>\n      <td>0</td>\n      <td>0</td>\n    </tr>\n    <tr>\n      <th>221</th>\n      <td>ΧΙΟΥ</td>\n      <td>1105</td>\n      <td>0</td>\n      <td>0</td>\n      <td>0</td>\n      <td>0</td>\n      <td>2020-12-31T00:00:00</td>\n      <td>0</td>\n      <td>0</td>\n      <td>0</td>\n      <td>0</td>\n    </tr>\n  </tbody>\n</table>\n<p>222 rows × 11 columns</p>\n</div>"
     },
     "execution_count": 11,
     "metadata": {},
     "output_type": "execute_result"
    }
   ],
   "source": [
    "vaccinations = pd.read_json(\"../data/data-dec.json\")\n",
    "vaccinations"
   ],
   "metadata": {
    "collapsed": false,
    "pycharm": {
     "name": "#%%\n"
    }
   }
  },
  {
   "cell_type": "code",
   "execution_count": null,
   "outputs": [],
   "source": [],
   "metadata": {
    "collapsed": false,
    "pycharm": {
     "name": "#%%\n"
    }
   }
  }
 ],
 "metadata": {
  "kernelspec": {
   "display_name": "Python 3",
   "language": "python",
   "name": "python3"
  },
  "language_info": {
   "codemirror_mode": {
    "name": "ipython",
    "version": 2
   },
   "file_extension": ".py",
   "mimetype": "text/x-python",
   "name": "python",
   "nbconvert_exporter": "python",
   "pygments_lexer": "ipython2",
   "version": "2.7.6"
  }
 },
 "nbformat": 4,
 "nbformat_minor": 0
}